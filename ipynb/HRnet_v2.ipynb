{
 "cells": [
  {
   "cell_type": "code",
   "execution_count": 1,
   "metadata": {},
   "outputs": [
    {
     "name": "stdout",
     "output_type": "stream",
     "text": [
      "['D:\\\\python\\\\Python3106-64', 'd:\\\\python\\\\Python3106-64\\\\python310.zip', 'd:\\\\python\\\\Python3106-64\\\\DLLs', 'd:\\\\python\\\\Python3106-64\\\\lib', '', 'C:\\\\Users\\\\10765\\\\AppData\\\\Roaming\\\\Python\\\\Python310\\\\site-packages', 'C:\\\\Users\\\\10765\\\\AppData\\\\Roaming\\\\Python\\\\Python310\\\\site-packages\\\\win32', 'C:\\\\Users\\\\10765\\\\AppData\\\\Roaming\\\\Python\\\\Python310\\\\site-packages\\\\win32\\\\lib', 'C:\\\\Users\\\\10765\\\\AppData\\\\Roaming\\\\Python\\\\Python310\\\\site-packages\\\\Pythonwin', 'd:\\\\python\\\\Python3106-64\\\\lib\\\\site-packages', 'd:\\\\python\\\\Python3106-64\\\\lib\\\\site-packages\\\\stable_diffusion-0.0.1-py3.10.egg', 'd:\\\\python\\\\Python3106-64\\\\lib\\\\site-packages\\\\k_diffusion-0.2.0.dev0-py3.10.egg', 'd:\\\\python\\\\Python3106-64\\\\lib\\\\site-packages\\\\wandb-0.17.5-py3.10.egg', 'd:\\\\python\\\\Python3106-64\\\\lib\\\\site-packages\\\\dctorch-0.1.2-py3.10.egg', 'd:\\\\python\\\\Python3106-64\\\\lib\\\\site-packages\\\\clip_anytorch-2.6.0-py3.10.egg', 'd:\\\\python\\\\Python3106-64\\\\lib\\\\site-packages\\\\setproctitle-1.3.3-py3.10-win-amd64.egg', 'd:\\\\python\\\\Python3106-64\\\\lib\\\\site-packages\\\\sentry_sdk-2.12.0-py3.10.egg', 'd:\\\\python\\\\Python3106-64\\\\lib\\\\site-packages\\\\platformdirs-4.2.2-py3.10.egg', 'd:\\\\python\\\\Python3106-64\\\\lib\\\\site-packages\\\\docker_pycreds-0.4.0-py3.10.egg', 'E:/tennis_v2/']\n"
     ]
    }
   ],
   "source": [
    "import sys\n",
    "sys.path.append('E:/tennis_v2/')\n",
    "print(sys.path)\n",
    "import os\n",
    "import cv2\n",
    "import torch\n",
    "import pathlib\n",
    "import torchvision.transforms as transforms\n",
    "import numpy as np\n",
    "import pandas as pd\n",
    "\n",
    "from model.wasb import HRNet\n",
    "from utils.kalman_filter import KalmanFilter\n",
    "from utils.LoadData import resize_feature\n",
    "from model.bounce_detector import BounceDetector\n",
    "from collections import deque\n",
    "from assets.bounce import detect_bounces\n",
    "\n",
    "# from asset.tennis_v1.LoadData import resize_feature\n",
    "\n",
    "%load_ext autoreload\n",
    "%autoreload 2"
   ]
  },
  {
   "cell_type": "code",
   "execution_count": 2,
   "metadata": {},
   "outputs": [],
   "source": [
    "# --- Constants and Configuration ---\n",
    "CURRENT_DIR = 'E:/tennis_v2/'\n",
    "MODEL_PATH = f\"{CURRENT_DIR}/weights/wasb_tennis_best.pth\"\n",
    "BOUNCE_DETECTOR_PATH = f\"{CURRENT_DIR}/weights/ctb_regr_bounce.cbm\"\n",
    "DELAY = 15  # 延迟帧数"
   ]
  },
  {
   "cell_type": "code",
   "execution_count": null,
   "metadata": {},
   "outputs": [],
   "source": [
    "current_dir = 'E:/tennis_v2/'\n",
    "\n",
    "def preprocess_frame(frame, transform):\n",
    "    return transform(frame)\n",
    "\n",
    "def predict_ball_position(prev_positions, width, height):\n",
    "    if len(prev_positions) < 3:\n",
    "        return None\n",
    "    p_t = prev_positions[-1]\n",
    "    a_t = p_t - 2 * prev_positions[-2] + prev_positions[-3]\n",
    "    v_t = p_t - prev_positions[-2] + a_t\n",
    "    predicted_position = p_t + v_t + 0.5 * a_t\n",
    "    predicted_position = np.clip(predicted_position, [0, 0], [width, height])\n",
    "    return predicted_position\n",
    "\n",
    "def run_inference(input_path, output_path=\"\", output_csv_path=\"\", overlay=False):\n",
    "    config = {\n",
    "        \"name\": \"hrnet\",\n",
    "        \"frames_in\": 3,\n",
    "        \"frames_out\": 3,\n",
    "        \"inp_height\": 288,\n",
    "        \"inp_width\": 512,\n",
    "        \"out_height\": 288,\n",
    "        \"out_width\": 512,\n",
    "        \"rgb_diff\": False,\n",
    "        \"out_scales\": [0],\n",
    "        \"MODEL\": {\n",
    "            \"EXTRA\": {\n",
    "                \"FINAL_CONV_KERNEL\": 1,\n",
    "                \"PRETRAINED_LAYERS\": ['*'],\n",
    "                \"STEM\": {\n",
    "                    \"INPLANES\": 64,\n",
    "                    \"STRIDES\": [1, 1]\n",
    "                },\n",
    "                \"STAGE1\": {\n",
    "                    \"NUM_MODULES\": 1,\n",
    "                    \"NUM_BRANCHES\": 1,\n",
    "                    \"BLOCK\": 'BOTTLENECK',\n",
    "                    \"NUM_BLOCKS\": [1],\n",
    "                    \"NUM_CHANNELS\": [32],\n",
    "                    \"FUSE_METHOD\": 'SUM'\n",
    "                },\n",
    "                \"STAGE2\": {\n",
    "                    \"NUM_MODULES\": 1,\n",
    "                    \"NUM_BRANCHES\": 2,\n",
    "                    \"BLOCK\": 'BASIC',\n",
    "                    \"NUM_BLOCKS\": [2, 2],\n",
    "                    \"NUM_CHANNELS\": [16, 32],\n",
    "                    \"FUSE_METHOD\": 'SUM'\n",
    "                },\n",
    "                \"STAGE3\": {\n",
    "                    \"NUM_MODULES\": 1,\n",
    "                    \"NUM_BRANCHES\": 3,\n",
    "                    \"BLOCK\": 'BASIC',\n",
    "                    \"NUM_BLOCKS\": [2, 2, 2],\n",
    "                    \"NUM_CHANNELS\": [16, 32, 64],\n",
    "                    \"FUSE_METHOD\": 'SUM'\n",
    "                },\n",
    "                \"STAGE4\": {\n",
    "                    \"NUM_MODULES\": 1,\n",
    "                    \"NUM_BRANCHES\": 4,\n",
    "                    \"BLOCK\": 'BASIC',\n",
    "                    \"NUM_BLOCKS\": [2, 2, 2, 2],\n",
    "                    \"NUM_CHANNELS\": [16, 32, 64, 128],\n",
    "                    \"FUSE_METHOD\": 'SUM'\n",
    "                },\n",
    "                \"DECONV\": {\n",
    "                    \"NUM_DECONVS\": 0,\n",
    "                    \"KERNEL_SIZE\": [],\n",
    "                    \"NUM_BASIC_BLOCKS\": 2\n",
    "                }\n",
    "            },\n",
    "            \"INIT_WEIGHTS\": True\n",
    "        },\n",
    "        \"model_path\": f\"{current_dir}/weights/wasb_tennis_best.pth\",  # Update with your model path\n",
    "    }\n",
    "    device = torch.device('cuda' if torch.cuda.is_available() else 'mps' if torch.backends.mps.is_available() else 'cpu')\n",
    "\n",
    "    transform = transforms.Compose([\n",
    "        transforms.ToPILImage(),\n",
    "        transforms.Resize((config['inp_height'], config['inp_width'])),\n",
    "        transforms.ToTensor(),\n",
    "        transforms.Normalize(mean=[0.485, 0.456, 0.406], std=[0.229, 0.224, 0.225]),\n",
    "    ])\n",
    "\n",
    "    model = HRNet(cfg=config).to(device)\n",
    "    checkpoint = torch.load(config['model_path'], map_location=device)\n",
    "    model.load_state_dict(checkpoint['model_state_dict'], strict=True)\n",
    "    model.eval()\n",
    "\n",
    "    # bounce model\n",
    "    # bounce_model = Model().to(device)\n",
    "    # bounce_model.load_state_dict(torch.load(f'{current_dir}/model_weight/model_state_dict_32_v3.pth'))\n",
    "    # bounce_model.eval()  # 设置为评估模式\n",
    "\n",
    "    bounce_detector = BounceDetector(f'{current_dir}/weights/ctb_regr_bounce.cbm')\n",
    "\n",
    "    cap = cv2.VideoCapture(input_path)\n",
    "\n",
    "    fps = int(cap.get(cv2.CAP_PROP_FPS))\n",
    "    width = int(cap.get(cv2.CAP_PROP_FRAME_WIDTH))\n",
    "    height = int(cap.get(cv2.CAP_PROP_FRAME_HEIGHT))\n",
    "\n",
    "    base_name = os.path.splitext(os.path.basename(input_path))[0]\n",
    "    if output_path == \"\":\n",
    "        output_video_path = os.path.join(os.path.dirname(output_path))\n",
    "    else:\n",
    "        output_video_path = os.path.join(output_path)\n",
    "\n",
    "    fourcc = cv2.VideoWriter_fourcc(*'mp4v')\n",
    "    out = cv2.VideoWriter(output_video_path, fourcc, 1, (width, height))   # fps\n",
    "    print(output_video_path)\n",
    "    frame_number = 0\n",
    "    frames_buffer = []\n",
    "    frame_count = int(cap.get(cv2.CAP_PROP_FRAME_COUNT))\n",
    "\n",
    "    # 初始化卡尔曼滤波器\n",
    "    kf = KalmanFilter()\n",
    "    kf_mean, kf_covariance = None, None\n",
    "    stable_frames_threshold = 1\n",
    "    stable_ious_threshold = 0.1\n",
    "    kf_ratio_range = 1\n",
    "    kf_width_range = 8\n",
    "    stable_frames = 0\n",
    "    detection_queue = deque(maxlen=stable_frames_threshold)  # 检测队列\n",
    "\n",
    "    # bounce\n",
    "    coordinate_history = []\n",
    "    save = False\n",
    "    \n",
    "    # draw\n",
    "    points = None\n",
    "    \n",
    "    prev_positions = []\n",
    "    positions = []\n",
    "\n",
    "\n",
    "    while True:\n",
    "        ret, frame = cap.read()\n",
    "        if not ret:\n",
    "            break\n",
    "\n",
    "        frames_buffer.append(frame)\n",
    "        if len(frames_buffer) == config['frames_in']:\n",
    "            # Preprocess the frames\n",
    "            frames_processed = [preprocess_frame(f, transform) for f in frames_buffer]\n",
    "            input_tensor = torch.cat(frames_processed, dim=0).unsqueeze(0).to(device)\n",
    "\n",
    "            # Perform inference\n",
    "            with torch.no_grad():\n",
    "                outputs = model(input_tensor)[0]  # Get the raw logits\n",
    "\n",
    "            detected = False\n",
    "            center_x, center_y, confidence = 0, 0, 0\n",
    "\n",
    "            for i in range(config['frames_out']):\n",
    "                output = outputs[0][i]\n",
    "                # Post-process the output\n",
    "                output = torch.sigmoid(output)  # Apply sigmoid to the output to get probabilities\n",
    "                heatmap = output.squeeze().cpu().numpy()\n",
    "                # print(output. shape, heatmap.shape)\n",
    "\n",
    "                heatmap = cv2.resize(heatmap, (width, height), interpolation=cv2.INTER_LINEAR)\n",
    "                heatmap = (heatmap > 0.5).astype(np.float32) * heatmap\n",
    "\n",
    "                if overlay:\n",
    "                    heatmap_normalized_visualization = cv2.normalize(heatmap, None, 0, 255, cv2.NORM_MINMAX)\n",
    "                    heatmap_normalized_visualization = heatmap_normalized_visualization.astype(np.uint8)\n",
    "                    # Apply color map to the heatmap\n",
    "                    heatmap_colored = cv2.applyColorMap(heatmap_normalized_visualization, cv2.COLORMAP_JET)\n",
    "                    # Overlay the heatmap on the original frame\n",
    "                    overlayed_frame = cv2.addWeighted(frames_buffer[i], 0.6, heatmap_colored, 0.4, 0)\n",
    "\n",
    "                # Find connected components\n",
    "                num_labels, labels_im, stats, centroids = cv2.connectedComponentsWithStats((heatmap > 0).astype(np.uint8), connectivity=8)\n",
    "\n",
    "                # Calculate centers of blobs\n",
    "                blob_centers = []\n",
    "                for j in range(1, num_labels):  # Skip the background label 0\n",
    "                    mask = labels_im == j\n",
    "                    blob_sum = heatmap[mask].sum()\n",
    "                    if blob_sum > 0:\n",
    "                        center_x = np.sum(np.where(mask)[1] * heatmap[mask]) / blob_sum\n",
    "                        center_y = np.sum(np.where(mask)[0] * heatmap[mask]) / blob_sum\n",
    "                        blob_centers.append((center_x, center_y, blob_sum))\n",
    "                    \n",
    "                if blob_centers:\n",
    "                    predicted_position = predict_ball_position(prev_positions, width, height)\n",
    "                    if predicted_position is not None:\n",
    "                        # Select the blob closest to the predicted position\n",
    "                        distances = [np.sqrt((x - predicted_position[0]) ** 2 + (y - predicted_position[1]) ** 2) for x, y, _ in blob_centers]\n",
    "                        closest_blob_idx = np.argmin(distances)\n",
    "                        center_x, center_y, confidence = blob_centers[closest_blob_idx]\n",
    "                    else:\n",
    "                        # Select the blob with the highest confidence if no prediction is available\n",
    "                        blob_centers.sort(key=lambda x: x[2], reverse=True)\n",
    "                        center_x, center_y, confidence = blob_centers[0]\n",
    "                    detected = True\n",
    "                    prev_positions.append(np.array([center_x, center_y]))\n",
    "                    if len(prev_positions) > 3:\n",
    "                        prev_positions.pop(0)\n",
    "                \n",
    "                \n",
    "                # Draw a circle on the detected ball\n",
    "                if detected:\n",
    "                    positions.append((center_x, center_y))\n",
    "                    detection_queue.append((center_x, center_y, confidence))\n",
    "                    color = (0, 255, 0)\n",
    "\n",
    "                else:\n",
    "                    # kalman filter predict\n",
    "                    if kf_mean is not None and kf_covariance is not None:\n",
    "                        # print(kf_mean)\n",
    "                        kf_mean, kf_covariance = kf.predict(kf_mean, kf_covariance)                        \n",
    "                        center_x, center_y = kf_mean[:2]\n",
    "                        color = (0, 255, 255)\n",
    "                coordinate_history.append([center_x, center_y])\n",
    "                ############################################################################################################\n",
    "                ####################################                Draw                   #################################\n",
    "                ############################################################################################################\n",
    "\n",
    "                ################################################################## test kalman filter #########################################################################\n",
    "                # if kf_mean is not None and kf_covariance is not None:\n",
    "                #     kf_mean, kf_covariance = kf.predict(kf_mean, kf_covariance)\n",
    "                #     cv2.rectangle(overlayed_frame if overlay else frames_buffer[0],(x1, y1), (x2, y2), (255, 255, 255), 2)\n",
    "                #     cv2.putText(overlayed_frame if overlay else frames_buffer[0], \"test_kalman\", (x1, y1 - 10), cv2.FONT_HERSHEY_SIMPLEX, 0.5, (255, 255, 255), 2)\n",
    "                ################################################################## test kalman filter #########################################################################\n",
    "                if (center_x is not None) and (center_y is not None) and (kf_mean is not None) and (kf_covariance is not None):\n",
    "                    # print(detected, kf_mean)\n",
    "                    x1, y1, x2, y2 =  kf.xyah_to_xyxy([center_x, center_y, kf_ratio_range, kf_width_range])\n",
    "                    x1, y1, x2, y2 = int(x1), int(y1), int(x2), int(y2)\n",
    "                    text = f\"{confidence:.2f}\"  # 格式化置信度到小数点后两位\n",
    "\n",
    "                    if overlay:\n",
    "                        # cv2.polylines(overlayed_frame, [points], isClosed=False, color=(0, 255, 255), thickness=2, lineType=cv2.LINE_AA)\n",
    "                        cv2.rectangle(overlayed_frame,(x1, y1), (x2, y2), color, 2)\n",
    "                        cv2.putText(overlayed_frame, text, (x1, y1 - 10), cv2.FONT_HERSHEY_SIMPLEX, 0.5, color, 2)\n",
    "   \n",
    "                        \n",
    "                    else:\n",
    "                        # cv2.polylines(overlayed_frame, [points], isClosed=False, color=(0, 255, 255), thickness=2, lineType=cv2.LINE_AA)\n",
    "                        cv2.rectangle(frames_buffer[i],(x1, y1), (x2, y2), color, 2)\n",
    "                        cv2.putText(frames_buffer[i], text, (x1, y1 - 10), cv2.FONT_HERSHEY_SIMPLEX, 0.5, color, 2)\n",
    "\n",
    "\n",
    "                ################################################################这个逻辑貌似不太理想############################################################################\n",
    "                # kalman filter\n",
    "                if len(detection_queue) == stable_frames_threshold:\n",
    "                    # 筛选可靠检测\n",
    "                    reliable_detections = [\n",
    "                        (x, y) for x, y, c in detection_queue if c > 0.25  # 例如，置信度阈值为 0.8\n",
    "                    ]\n",
    "\n",
    "                    # 如果有足够的可靠检测，则计算平均位置\n",
    "                    if len(reliable_detections) >= stable_frames_threshold // 2:  # 例如，至少需要一半的检测可靠\n",
    "                        avg_x = np.mean([x for x, y in reliable_detections])\n",
    "                        avg_y = np.mean([y for x, y in reliable_detections])\n",
    "                        if kf_mean is None and kf_covariance is None or stable_frames == 0:\n",
    "                            \"\"\"\n",
    "                            **初始化阶段**: 当self.kf_mean和self.kf_covariance尚未初始化,\n",
    "                            或者self.stable_frames为0时,使用第一个检测到的边界框来初始化卡尔曼滤波的状态(均值和协方差矩阵)\n",
    "                            此时直接选择IoU最高的掩码,并初始化KF。\n",
    "                            \"\"\"\n",
    "\n",
    "                            kf_mean, kf_covariance = kf.initiate(kf.xyxy_to_xyah([avg_x, avg_y, kf_ratio_range, kf_width_range]))\n",
    "                            stable_frames += 1\n",
    "                                # 清空队列，为下一次初始化做准备\n",
    "                    detection_queue.clear()\n",
    "                \n",
    "                    if stable_frames < stable_frames_threshold:\n",
    "                        \"\"\"\n",
    "                        当self.stable_frames小于阈值时,卡尔曼滤波进行预测,但不进行更新,除非当前帧的IoU足够高.\n",
    "                        此时,如果检测到的IoU超过阈值,则用当前边界框更新KF状态,并增加stable_frames的计数,否则重置计数。\n",
    "                        \"\"\"\n",
    "                    \n",
    "                        kf_mean, kf_covariance = kf.predict(kf_mean, kf_covariance)\n",
    "                        predict_iou = kf._compute_iou(kf.xyah_to_xyxy([center_x, center_y, kf_ratio_range, kf_width_range]), kf.xyah_to_xyxy(kf_mean[:4]))\n",
    "\n",
    "                        if predict_iou > stable_ious_threshold:\n",
    "                            kf_mean, kf_covariance = kf.update(kf_mean, kf_covariance, [center_x, center_y, kf_ratio_range, kf_width_range])\n",
    "                            stable_frames += 1\n",
    "                        else:\n",
    "                            stable_frames -= 1\n",
    "                    else:\n",
    "                        \"\"\"\n",
    "                        **稳定后的更新阶段**:当stable_frames达到阈值后,KF进入正常预测和更新循环.\n",
    "                        每次预测后, 计算当前多个候选掩码的边界框与KF预测的边界框之间的IoU, \n",
    "                        然后结合KF的IoU和模型预测的IoU,加权后选择最佳掩码,并更新KF的状态。\n",
    "                        \"\"\"\n",
    "                                            \n",
    "                        kf_mean, kf_covariance = kf.predict(kf_mean, kf_covariance)\n",
    "                        kf_mean, kf_covariance = kf.update(kf_mean, kf_covariance, [center_x, center_y, kf_ratio_range, kf_width_range])\n",
    "                ###############################################################################################################################################################\n",
    "                \n",
    "                if len(positions) > 12:\n",
    "                    positions.pop(0)\n",
    "                # Write the frame to the output video and save the coordinates\n",
    "                out.write(overlayed_frame if overlay else frames_buffer[0])\n",
    "                frame_number += 1\n",
    "                print(f'frame_number: {frame_number}/{frame_count}')\n",
    "            frames_buffer = []  # Clear the buffer for the next set of frames\n",
    "\n",
    "    # Release everything if job is finished\n",
    "    cap.release()\n",
    "    out.release()\n",
    "    cv2.destroyAllWindows()\n",
    "\n",
    "    \"\"\" bounce detection \"\"\"\n",
    "\n",
    "    trajectory = pd.DataFrame(coordinate_history, columns=['x', 'y'])\n",
    "    # print(trajectory)\n",
    "    bounces, ix_5, x,y = detect_bounces(trajectory, output_csv_path, path_to_video=output_path, path_to_output_video='e:/tennis_v2/inference/HRnet_test_v3_with_bounce.mp4', save=save)\n",
    "        # print(bounces)\n",
    "    # if len(coordinate_history) > 15:\n",
    "    #     print((center_x, center_y), coordinate_history)\n",
    "    #     bounce_data = resize_feature(np.array(coordinate_history))\n",
    "    #     bounces = bounce_detector.predict(bounce_data[:, 0], bounce_data[:, 1])\n",
    "    #     if bounces:\n",
    "    #         bounce_record.append([center_x, center_y])\n",
    "    #         coordinate_history = []\n",
    "    #         # draw bounce\n",
    "    #         cv2.circle(overlayed_frame if overlay else frames_buffer[i], (int(center_x), int(center_y)), 20, (255, 0, 0), 3)\n",
    "\n"
   ]
  },
  {
   "cell_type": "code",
   "execution_count": 8,
   "metadata": {},
   "outputs": [
    {
     "name": "stdout",
     "output_type": "stream",
     "text": [
      "e:/tennis_v2/inference/HRnet_v3_test.mp4\n",
      "frame_number: 1/266\n",
      "frame_number: 2/266\n",
      "frame_number: 3/266\n",
      "frame_number: 4/266\n",
      "frame_number: 5/266\n",
      "frame_number: 6/266\n",
      "frame_number: 7/266\n",
      "frame_number: 8/266\n",
      "frame_number: 9/266\n",
      "frame_number: 10/266\n",
      "frame_number: 11/266\n",
      "frame_number: 12/266\n",
      "frame_number: 13/266\n",
      "frame_number: 14/266\n",
      "frame_number: 15/266\n",
      "frame_number: 16/266\n",
      "frame_number: 17/266\n",
      "frame_number: 18/266\n",
      "frame_number: 19/266\n",
      "frame_number: 20/266\n",
      "frame_number: 21/266\n",
      "frame_number: 22/266\n",
      "frame_number: 23/266\n",
      "frame_number: 24/266\n",
      "frame_number: 25/266\n",
      "frame_number: 26/266\n",
      "frame_number: 27/266\n",
      "frame_number: 28/266\n",
      "frame_number: 29/266\n",
      "frame_number: 30/266\n",
      "frame_number: 31/266\n",
      "frame_number: 32/266\n",
      "frame_number: 33/266\n",
      "frame_number: 34/266\n",
      "frame_number: 35/266\n",
      "frame_number: 36/266\n",
      "frame_number: 37/266\n",
      "frame_number: 38/266\n",
      "frame_number: 39/266\n",
      "frame_number: 40/266\n",
      "frame_number: 41/266\n",
      "frame_number: 42/266\n",
      "frame_number: 43/266\n",
      "frame_number: 44/266\n",
      "frame_number: 45/266\n",
      "frame_number: 46/266\n",
      "frame_number: 47/266\n",
      "frame_number: 48/266\n",
      "frame_number: 49/266\n",
      "frame_number: 50/266\n",
      "frame_number: 51/266\n",
      "frame_number: 52/266\n",
      "frame_number: 53/266\n",
      "frame_number: 54/266\n",
      "frame_number: 55/266\n",
      "frame_number: 56/266\n",
      "frame_number: 57/266\n",
      "frame_number: 58/266\n",
      "frame_number: 59/266\n",
      "frame_number: 60/266\n",
      "frame_number: 61/266\n",
      "frame_number: 62/266\n",
      "frame_number: 63/266\n",
      "frame_number: 64/266\n",
      "frame_number: 65/266\n",
      "frame_number: 66/266\n",
      "frame_number: 67/266\n",
      "frame_number: 68/266\n",
      "frame_number: 69/266\n",
      "frame_number: 70/266\n",
      "frame_number: 71/266\n",
      "frame_number: 72/266\n",
      "frame_number: 73/266\n",
      "frame_number: 74/266\n",
      "frame_number: 75/266\n",
      "frame_number: 76/266\n",
      "frame_number: 77/266\n",
      "frame_number: 78/266\n",
      "frame_number: 79/266\n",
      "frame_number: 80/266\n",
      "frame_number: 81/266\n",
      "frame_number: 82/266\n",
      "frame_number: 83/266\n",
      "frame_number: 84/266\n",
      "frame_number: 85/266\n",
      "frame_number: 86/266\n",
      "frame_number: 87/266\n",
      "frame_number: 88/266\n",
      "frame_number: 89/266\n",
      "frame_number: 90/266\n",
      "frame_number: 91/266\n",
      "frame_number: 92/266\n",
      "frame_number: 93/266\n",
      "frame_number: 94/266\n",
      "frame_number: 95/266\n",
      "frame_number: 96/266\n",
      "frame_number: 97/266\n",
      "frame_number: 98/266\n",
      "frame_number: 99/266\n",
      "frame_number: 100/266\n",
      "frame_number: 101/266\n",
      "frame_number: 102/266\n",
      "frame_number: 103/266\n",
      "frame_number: 104/266\n",
      "frame_number: 105/266\n",
      "frame_number: 106/266\n",
      "frame_number: 107/266\n",
      "frame_number: 108/266\n",
      "frame_number: 109/266\n",
      "frame_number: 110/266\n",
      "frame_number: 111/266\n",
      "frame_number: 112/266\n",
      "frame_number: 113/266\n",
      "frame_number: 114/266\n",
      "frame_number: 115/266\n",
      "frame_number: 116/266\n",
      "frame_number: 117/266\n",
      "frame_number: 118/266\n",
      "frame_number: 119/266\n",
      "frame_number: 120/266\n",
      "frame_number: 121/266\n",
      "frame_number: 122/266\n",
      "frame_number: 123/266\n",
      "frame_number: 124/266\n",
      "frame_number: 125/266\n",
      "frame_number: 126/266\n",
      "frame_number: 127/266\n",
      "frame_number: 128/266\n",
      "frame_number: 129/266\n",
      "frame_number: 130/266\n",
      "frame_number: 131/266\n",
      "frame_number: 132/266\n",
      "frame_number: 133/266\n",
      "frame_number: 134/266\n",
      "frame_number: 135/266\n",
      "frame_number: 136/266\n",
      "frame_number: 137/266\n",
      "frame_number: 138/266\n",
      "frame_number: 139/266\n",
      "frame_number: 140/266\n",
      "frame_number: 141/266\n",
      "frame_number: 142/266\n",
      "frame_number: 143/266\n",
      "frame_number: 144/266\n",
      "frame_number: 145/266\n",
      "frame_number: 146/266\n",
      "frame_number: 147/266\n",
      "frame_number: 148/266\n",
      "frame_number: 149/266\n",
      "frame_number: 150/266\n",
      "frame_number: 151/266\n",
      "frame_number: 152/266\n",
      "frame_number: 153/266\n",
      "frame_number: 154/266\n",
      "frame_number: 155/266\n",
      "frame_number: 156/266\n",
      "frame_number: 157/266\n",
      "frame_number: 158/266\n",
      "frame_number: 159/266\n",
      "frame_number: 160/266\n",
      "frame_number: 161/266\n",
      "frame_number: 162/266\n",
      "frame_number: 163/266\n",
      "frame_number: 164/266\n",
      "frame_number: 165/266\n",
      "frame_number: 166/266\n",
      "frame_number: 167/266\n",
      "frame_number: 168/266\n",
      "frame_number: 169/266\n",
      "frame_number: 170/266\n",
      "frame_number: 171/266\n",
      "frame_number: 172/266\n",
      "frame_number: 173/266\n",
      "frame_number: 174/266\n",
      "frame_number: 175/266\n",
      "frame_number: 176/266\n",
      "frame_number: 177/266\n",
      "frame_number: 178/266\n",
      "frame_number: 179/266\n",
      "frame_number: 180/266\n",
      "frame_number: 181/266\n",
      "frame_number: 182/266\n",
      "frame_number: 183/266\n",
      "frame_number: 184/266\n",
      "frame_number: 185/266\n",
      "frame_number: 186/266\n",
      "frame_number: 187/266\n",
      "frame_number: 188/266\n",
      "frame_number: 189/266\n",
      "frame_number: 190/266\n",
      "frame_number: 191/266\n",
      "frame_number: 192/266\n",
      "frame_number: 193/266\n",
      "frame_number: 194/266\n",
      "frame_number: 195/266\n",
      "frame_number: 196/266\n",
      "frame_number: 197/266\n",
      "frame_number: 198/266\n",
      "frame_number: 199/266\n",
      "frame_number: 200/266\n",
      "frame_number: 201/266\n",
      "frame_number: 202/266\n",
      "frame_number: 203/266\n",
      "frame_number: 204/266\n",
      "frame_number: 205/266\n",
      "frame_number: 206/266\n",
      "frame_number: 207/266\n",
      "frame_number: 208/266\n",
      "frame_number: 209/266\n",
      "frame_number: 210/266\n",
      "frame_number: 211/266\n",
      "frame_number: 212/266\n",
      "frame_number: 213/266\n",
      "frame_number: 214/266\n",
      "frame_number: 215/266\n",
      "frame_number: 216/266\n",
      "frame_number: 217/266\n",
      "frame_number: 218/266\n",
      "frame_number: 219/266\n",
      "frame_number: 220/266\n",
      "frame_number: 221/266\n",
      "frame_number: 222/266\n",
      "frame_number: 223/266\n",
      "frame_number: 224/266\n",
      "frame_number: 225/266\n",
      "frame_number: 226/266\n",
      "frame_number: 227/266\n",
      "frame_number: 228/266\n",
      "frame_number: 229/266\n",
      "frame_number: 230/266\n",
      "frame_number: 231/266\n",
      "frame_number: 232/266\n",
      "frame_number: 233/266\n",
      "frame_number: 234/266\n",
      "frame_number: 235/266\n",
      "frame_number: 236/266\n",
      "frame_number: 237/266\n",
      "frame_number: 238/266\n",
      "frame_number: 239/266\n",
      "frame_number: 240/266\n",
      "frame_number: 241/266\n",
      "frame_number: 242/266\n",
      "frame_number: 243/266\n",
      "frame_number: 244/266\n",
      "frame_number: 245/266\n",
      "frame_number: 246/266\n",
      "frame_number: 247/266\n",
      "frame_number: 248/266\n",
      "frame_number: 249/266\n",
      "frame_number: 250/266\n",
      "frame_number: 251/266\n",
      "frame_number: 252/266\n",
      "frame_number: 253/266\n",
      "frame_number: 254/266\n",
      "frame_number: 255/266\n",
      "frame_number: 256/266\n",
      "frame_number: 257/266\n",
      "frame_number: 258/266\n",
      "frame_number: 259/266\n",
      "frame_number: 260/266\n",
      "frame_number: 261/266\n",
      "frame_number: 262/266\n",
      "frame_number: 263/266\n",
      "frame_number: 264/266\n",
      "Pair:  [-711.51570938 -545.30366057] [ 212.35776853 -135.59832576] Bounce:  True , Pair number:  0\n",
      "Pair:  [-212.35776853  135.59832576] [-216.82449596  -44.44733427] Bounce:  True , Pair number:  1\n",
      "Pair:  [216.82449596  44.44733427] [ -10.56117299 -110.6307326 ] Bounce:  True , Pair number:  2\n",
      "14.683149462255185\n",
      "False\n",
      "Pair:  [ 10.56117299 110.6307326 ] [-6.97150377 42.9008754 ] Bounce:  True , Pair number:  3\n",
      "Pair:  [  6.97150377 -42.9008754 ] [-77.96154353 -38.26950878] Bounce:  True , Pair number:  4\n",
      "152.10642042420673\n",
      "False\n",
      "Pair:  [77.96154353 38.26950878] [-89.0137413    2.71686603] Bounce:  True , Pair number:  5\n",
      "Pair:  [89.0137413  -2.71686603] [ -70.65332043 -191.95383556] Bounce:  True , Pair number:  6\n",
      "Pair:  [ 70.65332043 191.95383556] [212.96872284 178.16064322] Bounce:  True , Pair number:  7\n",
      "Pair:  [-212.96872284 -178.16064322] [182.03807362 251.78695308] Bounce:  True , Pair number:  8\n",
      "Pair:  [-182.03807362 -251.78695308] [-13.39108377 -81.68639096] Bounce:  True , Pair number:  9\n",
      "55.95848800276426\n",
      "True\n",
      "Pair:  [13.39108377 81.68639096] [-48.82131647  46.08958561] Bounce:  True , Pair number:  10\n",
      "Pair:  [ 48.82131647 -46.08958561] [  11.20452944 -111.12095248] Bounce:  True , Pair number:  11\n",
      "Pair:  [-11.20452944 111.12095248] [-55.74078765 -84.20180704] Bounce:  True , Pair number:  12\n",
      "Pair:  [55.74078765 84.20180704] [-75.46581754 -63.02857679] Bounce:  True , Pair number:  13\n",
      "130.07551151632458\n",
      "False\n",
      "Pair:  [75.46581754 63.02857679] [-61.75573183  10.95152384] Bounce:  True , Pair number:  14\n",
      "Pair:  [ 61.75573183 -10.95152384] [-32.66105495 -83.16521492] Bounce:  True , Pair number:  15\n",
      "35.55700433287234\n",
      "True\n",
      "Pair:  [32.66105495 83.16521492] [-103.81245047  412.811949  ] Bounce:  True , Pair number:  16\n",
      "Pair:  [ 103.81245047 -412.811949  ] [ -6.1950297  -26.04336876] Bounce:  True , Pair number:  17\n",
      "35.84281739899357\n",
      "True\n",
      "Pair:  [ 6.1950297  26.04336876] [-29.02295502  70.19808734] Bounce:  True , Pair number:  18\n",
      "Pair:  [ 29.02295502 -70.19808734] [ 107.25261871 -310.85712398] Bounce:  True , Pair number:  19\n",
      "Pair:  [-107.25261871  310.85712398] [  90.29005479 -136.06373431] Bounce:  True , Pair number:  20\n",
      "Pair:  [-90.29005479 136.06373431] [-6.61253778 29.87157399] Bounce:  True , Pair number:  21\n",
      "Pair:  [  6.61253778 -29.87157399] [35.4869893  10.89743623] Bounce:  True , Pair number:  22\n",
      "Pair:  [-35.4869893  -10.89743623] [32.46305362 56.48227403] Bounce:  True , Pair number:  23\n",
      "Pair:  [-32.46305362 -56.48227403] [  32.15433586 -110.85751475] Bounce:  True , Pair number:  24\n",
      "32.269511473857094\n",
      "True\n",
      "Pair:  [-32.15433586 110.85751475] [ 95.99402803 332.69557905] Bounce:  True , Pair number:  25\n",
      "save-----------------------------------\n"
     ]
    },
    {
     "data": {
      "application/vnd.plotly.v1+json": {
       "config": {
        "plotlyServerURL": "https://plot.ly"
       },
       "data": [
        {
         "line": {
          "color": "green",
          "dash": "dash"
         },
         "mode": "lines",
         "name": "simplified path",
         "type": "scatter",
         "x": [
          0,
          711.5157093783773,
          923.873477909108,
          707.0489819516458,
          696.4878089617657,
          689.5163051965167,
          611.5547616712662,
          522.5410203681485,
          451.88769993502757,
          664.85642277455,
          846.8944963934473,
          833.503412619691,
          784.6820961533788,
          795.8866255916352,
          740.1458379375241,
          664.6800203987189,
          602.924288567047,
          570.2632336161707,
          466.4507831452159,
          460.25575344193646,
          431.2327984237955,
          538.4854171316695,
          628.7754719213599,
          622.1629341418612,
          657.6499234400565,
          690.1129770608845,
          722.2673129179738,
          818.2613409491611
         ],
         "y": [
          0,
          545.3036605713133,
          409.7053348082639,
          365.25800053339674,
          254.6272679294475,
          297.52814332581306,
          259.2586345473523,
          261.9755005762101,
          70.0216650152637,
          248.18230823469034,
          499.96926131389586,
          418.28287035046344,
          464.37245596013327,
          353.25150348150254,
          269.04969644036754,
          206.02111964863155,
          216.97264348443923,
          133.80742856645878,
          546.6193775640423,
          520.5760088020702,
          590.7740961403164,
          279.9169721629859,
          143.85323785204682,
          173.7248118466344,
          184.62224807950065,
          241.1045221143962,
          130.2470073661539,
          462.9425864169211
         ]
        },
        {
         "marker": {
          "color": "red",
          "size": 10
         },
         "mode": "markers",
         "name": "bounces",
         "type": "scatter",
         "x": [
          711.5157093783773,
          923.873477909108,
          689.5163051965167,
          522.5410203681485,
          451.88769993502757,
          846.8944963934473,
          784.6820961533788,
          602.924288567047,
          570.2632336161707,
          466.4507831452159,
          431.2327984237955,
          628.7754719213599,
          690.1129770608845,
          722.2673129179738
         ],
         "y": [
          545.3036605713133,
          409.7053348082639,
          297.52814332581306,
          261.9755005762101,
          70.0216650152637,
          499.96926131389586,
          464.37245596013327,
          216.97264348443923,
          133.80742856645878,
          546.6193775640423,
          590.7740961403164,
          143.85323785204682,
          241.1045221143962,
          130.2470073661539
         ]
        }
       ],
       "layout": {
        "annotations": [
         {
          "arrowhead": 2,
          "ax": 0,
          "ay": -10,
          "font": {
           "color": "black",
           "size": 8
          },
          "showarrow": true,
          "text": "4",
          "x": 711.5157093783773,
          "y": 545.3036605713133
         },
         {
          "arrowhead": 2,
          "ax": 0,
          "ay": -10,
          "font": {
           "color": "black",
           "size": 8
          },
          "showarrow": true,
          "text": "34",
          "x": 923.873477909108,
          "y": 409.7053348082639
         },
         {
          "arrowhead": 2,
          "ax": 0,
          "ay": -10,
          "font": {
           "color": "black",
           "size": 8
          },
          "showarrow": true,
          "text": "50",
          "x": 689.5163051965167,
          "y": 297.52814332581306
         },
         {
          "arrowhead": 2,
          "ax": 0,
          "ay": -10,
          "font": {
           "color": "black",
           "size": 8
          },
          "showarrow": true,
          "text": "68",
          "x": 522.5410203681485,
          "y": 261.9755005762101
         },
         {
          "arrowhead": 2,
          "ax": 0,
          "ay": -10,
          "font": {
           "color": "black",
           "size": 8
          },
          "showarrow": true,
          "text": "89",
          "x": 451.88769993502757,
          "y": 70.0216650152637
         },
         {
          "arrowhead": 2,
          "ax": 0,
          "ay": -10,
          "font": {
           "color": "black",
           "size": 8
          },
          "showarrow": true,
          "text": "116",
          "x": 846.8944963934473,
          "y": 499.96926131389586
         },
         {
          "arrowhead": 2,
          "ax": 0,
          "ay": -10,
          "font": {
           "color": "black",
           "size": 8
          },
          "showarrow": true,
          "text": "119",
          "x": 784.6820961533788,
          "y": 464.37245596013327
         },
         {
          "arrowhead": 2,
          "ax": 0,
          "ay": -10,
          "font": {
           "color": "black",
           "size": 8
          },
          "showarrow": true,
          "text": "144",
          "x": 602.924288567047,
          "y": 216.97264348443923
         },
         {
          "arrowhead": 2,
          "ax": 0,
          "ay": -10,
          "font": {
           "color": "black",
           "size": 8
          },
          "showarrow": true,
          "text": "155",
          "x": 570.2632336161707,
          "y": 133.80742856645878
         },
         {
          "arrowhead": 2,
          "ax": 0,
          "ay": -10,
          "font": {
           "color": "black",
           "size": 8
          },
          "showarrow": true,
          "text": "179",
          "x": 466.4507831452159,
          "y": 546.6193775640423
         },
         {
          "arrowhead": 2,
          "ax": 0,
          "ay": -10,
          "font": {
           "color": "black",
           "size": 8
          },
          "showarrow": true,
          "text": "186",
          "x": 431.2327984237955,
          "y": 590.7740961403164
         },
         {
          "arrowhead": 2,
          "ax": 0,
          "ay": -10,
          "font": {
           "color": "black",
           "size": 8
          },
          "showarrow": true,
          "text": "209",
          "x": 628.7754719213599,
          "y": 143.85323785204682
         },
         {
          "arrowhead": 2,
          "ax": 0,
          "ay": -10,
          "font": {
           "color": "black",
           "size": 8
          },
          "showarrow": true,
          "text": "229",
          "x": 690.1129770608845,
          "y": 241.1045221143962
         },
         {
          "arrowhead": 2,
          "ax": 0,
          "ay": -10,
          "font": {
           "color": "black",
           "size": 8
          },
          "showarrow": true,
          "text": "246",
          "x": 722.2673129179738,
          "y": 130.2470073661539
         }
        ],
        "legend": {
         "traceorder": "normal",
         "x": 0,
         "y": 1
        },
        "template": {
         "data": {
          "bar": [
           {
            "error_x": {
             "color": "#2a3f5f"
            },
            "error_y": {
             "color": "#2a3f5f"
            },
            "marker": {
             "line": {
              "color": "#E5ECF6",
              "width": 0.5
             },
             "pattern": {
              "fillmode": "overlay",
              "size": 10,
              "solidity": 0.2
             }
            },
            "type": "bar"
           }
          ],
          "barpolar": [
           {
            "marker": {
             "line": {
              "color": "#E5ECF6",
              "width": 0.5
             },
             "pattern": {
              "fillmode": "overlay",
              "size": 10,
              "solidity": 0.2
             }
            },
            "type": "barpolar"
           }
          ],
          "carpet": [
           {
            "aaxis": {
             "endlinecolor": "#2a3f5f",
             "gridcolor": "white",
             "linecolor": "white",
             "minorgridcolor": "white",
             "startlinecolor": "#2a3f5f"
            },
            "baxis": {
             "endlinecolor": "#2a3f5f",
             "gridcolor": "white",
             "linecolor": "white",
             "minorgridcolor": "white",
             "startlinecolor": "#2a3f5f"
            },
            "type": "carpet"
           }
          ],
          "choropleth": [
           {
            "colorbar": {
             "outlinewidth": 0,
             "ticks": ""
            },
            "type": "choropleth"
           }
          ],
          "contour": [
           {
            "colorbar": {
             "outlinewidth": 0,
             "ticks": ""
            },
            "colorscale": [
             [
              0,
              "#0d0887"
             ],
             [
              0.1111111111111111,
              "#46039f"
             ],
             [
              0.2222222222222222,
              "#7201a8"
             ],
             [
              0.3333333333333333,
              "#9c179e"
             ],
             [
              0.4444444444444444,
              "#bd3786"
             ],
             [
              0.5555555555555556,
              "#d8576b"
             ],
             [
              0.6666666666666666,
              "#ed7953"
             ],
             [
              0.7777777777777778,
              "#fb9f3a"
             ],
             [
              0.8888888888888888,
              "#fdca26"
             ],
             [
              1,
              "#f0f921"
             ]
            ],
            "type": "contour"
           }
          ],
          "contourcarpet": [
           {
            "colorbar": {
             "outlinewidth": 0,
             "ticks": ""
            },
            "type": "contourcarpet"
           }
          ],
          "heatmap": [
           {
            "colorbar": {
             "outlinewidth": 0,
             "ticks": ""
            },
            "colorscale": [
             [
              0,
              "#0d0887"
             ],
             [
              0.1111111111111111,
              "#46039f"
             ],
             [
              0.2222222222222222,
              "#7201a8"
             ],
             [
              0.3333333333333333,
              "#9c179e"
             ],
             [
              0.4444444444444444,
              "#bd3786"
             ],
             [
              0.5555555555555556,
              "#d8576b"
             ],
             [
              0.6666666666666666,
              "#ed7953"
             ],
             [
              0.7777777777777778,
              "#fb9f3a"
             ],
             [
              0.8888888888888888,
              "#fdca26"
             ],
             [
              1,
              "#f0f921"
             ]
            ],
            "type": "heatmap"
           }
          ],
          "heatmapgl": [
           {
            "colorbar": {
             "outlinewidth": 0,
             "ticks": ""
            },
            "colorscale": [
             [
              0,
              "#0d0887"
             ],
             [
              0.1111111111111111,
              "#46039f"
             ],
             [
              0.2222222222222222,
              "#7201a8"
             ],
             [
              0.3333333333333333,
              "#9c179e"
             ],
             [
              0.4444444444444444,
              "#bd3786"
             ],
             [
              0.5555555555555556,
              "#d8576b"
             ],
             [
              0.6666666666666666,
              "#ed7953"
             ],
             [
              0.7777777777777778,
              "#fb9f3a"
             ],
             [
              0.8888888888888888,
              "#fdca26"
             ],
             [
              1,
              "#f0f921"
             ]
            ],
            "type": "heatmapgl"
           }
          ],
          "histogram": [
           {
            "marker": {
             "pattern": {
              "fillmode": "overlay",
              "size": 10,
              "solidity": 0.2
             }
            },
            "type": "histogram"
           }
          ],
          "histogram2d": [
           {
            "colorbar": {
             "outlinewidth": 0,
             "ticks": ""
            },
            "colorscale": [
             [
              0,
              "#0d0887"
             ],
             [
              0.1111111111111111,
              "#46039f"
             ],
             [
              0.2222222222222222,
              "#7201a8"
             ],
             [
              0.3333333333333333,
              "#9c179e"
             ],
             [
              0.4444444444444444,
              "#bd3786"
             ],
             [
              0.5555555555555556,
              "#d8576b"
             ],
             [
              0.6666666666666666,
              "#ed7953"
             ],
             [
              0.7777777777777778,
              "#fb9f3a"
             ],
             [
              0.8888888888888888,
              "#fdca26"
             ],
             [
              1,
              "#f0f921"
             ]
            ],
            "type": "histogram2d"
           }
          ],
          "histogram2dcontour": [
           {
            "colorbar": {
             "outlinewidth": 0,
             "ticks": ""
            },
            "colorscale": [
             [
              0,
              "#0d0887"
             ],
             [
              0.1111111111111111,
              "#46039f"
             ],
             [
              0.2222222222222222,
              "#7201a8"
             ],
             [
              0.3333333333333333,
              "#9c179e"
             ],
             [
              0.4444444444444444,
              "#bd3786"
             ],
             [
              0.5555555555555556,
              "#d8576b"
             ],
             [
              0.6666666666666666,
              "#ed7953"
             ],
             [
              0.7777777777777778,
              "#fb9f3a"
             ],
             [
              0.8888888888888888,
              "#fdca26"
             ],
             [
              1,
              "#f0f921"
             ]
            ],
            "type": "histogram2dcontour"
           }
          ],
          "mesh3d": [
           {
            "colorbar": {
             "outlinewidth": 0,
             "ticks": ""
            },
            "type": "mesh3d"
           }
          ],
          "parcoords": [
           {
            "line": {
             "colorbar": {
              "outlinewidth": 0,
              "ticks": ""
             }
            },
            "type": "parcoords"
           }
          ],
          "pie": [
           {
            "automargin": true,
            "type": "pie"
           }
          ],
          "scatter": [
           {
            "fillpattern": {
             "fillmode": "overlay",
             "size": 10,
             "solidity": 0.2
            },
            "type": "scatter"
           }
          ],
          "scatter3d": [
           {
            "line": {
             "colorbar": {
              "outlinewidth": 0,
              "ticks": ""
             }
            },
            "marker": {
             "colorbar": {
              "outlinewidth": 0,
              "ticks": ""
             }
            },
            "type": "scatter3d"
           }
          ],
          "scattercarpet": [
           {
            "marker": {
             "colorbar": {
              "outlinewidth": 0,
              "ticks": ""
             }
            },
            "type": "scattercarpet"
           }
          ],
          "scattergeo": [
           {
            "marker": {
             "colorbar": {
              "outlinewidth": 0,
              "ticks": ""
             }
            },
            "type": "scattergeo"
           }
          ],
          "scattergl": [
           {
            "marker": {
             "colorbar": {
              "outlinewidth": 0,
              "ticks": ""
             }
            },
            "type": "scattergl"
           }
          ],
          "scattermapbox": [
           {
            "marker": {
             "colorbar": {
              "outlinewidth": 0,
              "ticks": ""
             }
            },
            "type": "scattermapbox"
           }
          ],
          "scatterpolar": [
           {
            "marker": {
             "colorbar": {
              "outlinewidth": 0,
              "ticks": ""
             }
            },
            "type": "scatterpolar"
           }
          ],
          "scatterpolargl": [
           {
            "marker": {
             "colorbar": {
              "outlinewidth": 0,
              "ticks": ""
             }
            },
            "type": "scatterpolargl"
           }
          ],
          "scatterternary": [
           {
            "marker": {
             "colorbar": {
              "outlinewidth": 0,
              "ticks": ""
             }
            },
            "type": "scatterternary"
           }
          ],
          "surface": [
           {
            "colorbar": {
             "outlinewidth": 0,
             "ticks": ""
            },
            "colorscale": [
             [
              0,
              "#0d0887"
             ],
             [
              0.1111111111111111,
              "#46039f"
             ],
             [
              0.2222222222222222,
              "#7201a8"
             ],
             [
              0.3333333333333333,
              "#9c179e"
             ],
             [
              0.4444444444444444,
              "#bd3786"
             ],
             [
              0.5555555555555556,
              "#d8576b"
             ],
             [
              0.6666666666666666,
              "#ed7953"
             ],
             [
              0.7777777777777778,
              "#fb9f3a"
             ],
             [
              0.8888888888888888,
              "#fdca26"
             ],
             [
              1,
              "#f0f921"
             ]
            ],
            "type": "surface"
           }
          ],
          "table": [
           {
            "cells": {
             "fill": {
              "color": "#EBF0F8"
             },
             "line": {
              "color": "white"
             }
            },
            "header": {
             "fill": {
              "color": "#C8D4E3"
             },
             "line": {
              "color": "white"
             }
            },
            "type": "table"
           }
          ]
         },
         "layout": {
          "annotationdefaults": {
           "arrowcolor": "#2a3f5f",
           "arrowhead": 0,
           "arrowwidth": 1
          },
          "autotypenumbers": "strict",
          "coloraxis": {
           "colorbar": {
            "outlinewidth": 0,
            "ticks": ""
           }
          },
          "colorscale": {
           "diverging": [
            [
             0,
             "#8e0152"
            ],
            [
             0.1,
             "#c51b7d"
            ],
            [
             0.2,
             "#de77ae"
            ],
            [
             0.3,
             "#f1b6da"
            ],
            [
             0.4,
             "#fde0ef"
            ],
            [
             0.5,
             "#f7f7f7"
            ],
            [
             0.6,
             "#e6f5d0"
            ],
            [
             0.7,
             "#b8e186"
            ],
            [
             0.8,
             "#7fbc41"
            ],
            [
             0.9,
             "#4d9221"
            ],
            [
             1,
             "#276419"
            ]
           ],
           "sequential": [
            [
             0,
             "#0d0887"
            ],
            [
             0.1111111111111111,
             "#46039f"
            ],
            [
             0.2222222222222222,
             "#7201a8"
            ],
            [
             0.3333333333333333,
             "#9c179e"
            ],
            [
             0.4444444444444444,
             "#bd3786"
            ],
            [
             0.5555555555555556,
             "#d8576b"
            ],
            [
             0.6666666666666666,
             "#ed7953"
            ],
            [
             0.7777777777777778,
             "#fb9f3a"
            ],
            [
             0.8888888888888888,
             "#fdca26"
            ],
            [
             1,
             "#f0f921"
            ]
           ],
           "sequentialminus": [
            [
             0,
             "#0d0887"
            ],
            [
             0.1111111111111111,
             "#46039f"
            ],
            [
             0.2222222222222222,
             "#7201a8"
            ],
            [
             0.3333333333333333,
             "#9c179e"
            ],
            [
             0.4444444444444444,
             "#bd3786"
            ],
            [
             0.5555555555555556,
             "#d8576b"
            ],
            [
             0.6666666666666666,
             "#ed7953"
            ],
            [
             0.7777777777777778,
             "#fb9f3a"
            ],
            [
             0.8888888888888888,
             "#fdca26"
            ],
            [
             1,
             "#f0f921"
            ]
           ]
          },
          "colorway": [
           "#636efa",
           "#EF553B",
           "#00cc96",
           "#ab63fa",
           "#FFA15A",
           "#19d3f3",
           "#FF6692",
           "#B6E880",
           "#FF97FF",
           "#FECB52"
          ],
          "font": {
           "color": "#2a3f5f"
          },
          "geo": {
           "bgcolor": "white",
           "lakecolor": "white",
           "landcolor": "#E5ECF6",
           "showlakes": true,
           "showland": true,
           "subunitcolor": "white"
          },
          "hoverlabel": {
           "align": "left"
          },
          "hovermode": "closest",
          "mapbox": {
           "style": "light"
          },
          "paper_bgcolor": "white",
          "plot_bgcolor": "#E5ECF6",
          "polar": {
           "angularaxis": {
            "gridcolor": "white",
            "linecolor": "white",
            "ticks": ""
           },
           "bgcolor": "#E5ECF6",
           "radialaxis": {
            "gridcolor": "white",
            "linecolor": "white",
            "ticks": ""
           }
          },
          "scene": {
           "xaxis": {
            "backgroundcolor": "#E5ECF6",
            "gridcolor": "white",
            "gridwidth": 2,
            "linecolor": "white",
            "showbackground": true,
            "ticks": "",
            "zerolinecolor": "white"
           },
           "yaxis": {
            "backgroundcolor": "#E5ECF6",
            "gridcolor": "white",
            "gridwidth": 2,
            "linecolor": "white",
            "showbackground": true,
            "ticks": "",
            "zerolinecolor": "white"
           },
           "zaxis": {
            "backgroundcolor": "#E5ECF6",
            "gridcolor": "white",
            "gridwidth": 2,
            "linecolor": "white",
            "showbackground": true,
            "ticks": "",
            "zerolinecolor": "white"
           }
          },
          "shapedefaults": {
           "line": {
            "color": "#2a3f5f"
           }
          },
          "ternary": {
           "aaxis": {
            "gridcolor": "white",
            "linecolor": "white",
            "ticks": ""
           },
           "baxis": {
            "gridcolor": "white",
            "linecolor": "white",
            "ticks": ""
           },
           "bgcolor": "#E5ECF6",
           "caxis": {
            "gridcolor": "white",
            "linecolor": "white",
            "ticks": ""
           }
          },
          "title": {
           "x": 0.05
          },
          "xaxis": {
           "automargin": true,
           "gridcolor": "white",
           "linecolor": "white",
           "ticks": "",
           "title": {
            "standoff": 15
           },
           "zerolinecolor": "white",
           "zerolinewidth": 2
          },
          "yaxis": {
           "automargin": true,
           "gridcolor": "white",
           "linecolor": "white",
           "ticks": "",
           "title": {
            "standoff": 15
           },
           "zerolinecolor": "white",
           "zerolinewidth": 2
          }
         }
        },
        "yaxis": {
         "autorange": "reversed"
        }
       }
      }
     },
     "metadata": {},
     "output_type": "display_data"
    }
   ],
   "source": [
    "csv = 'test'\n",
    "video_input_path = 'e:/TennisProject-main/inference/test.mp4'\n",
    "video_output_path = 'e:/tennis_v2/inference/HRnet_v3_' + video_input_path.split('/')[-1]\n",
    "output_csv_path = 'e:/tennis_v2/inference/HRnet_v3_' + csv + '.csv'\n",
    "\n",
    "run_inference(video_input_path, video_output_path, output_csv_path)"
   ]
  }
 ],
 "metadata": {
  "kernelspec": {
   "display_name": "Python 3",
   "language": "python",
   "name": "python3"
  },
  "language_info": {
   "codemirror_mode": {
    "name": "ipython",
    "version": 3
   },
   "file_extension": ".py",
   "mimetype": "text/x-python",
   "name": "python",
   "nbconvert_exporter": "python",
   "pygments_lexer": "ipython3",
   "version": "3.10.11"
  }
 },
 "nbformat": 4,
 "nbformat_minor": 2
}
